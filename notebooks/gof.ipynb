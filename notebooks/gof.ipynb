{
 "cells": [
  {
   "cell_type": "code",
   "execution_count": 1,
   "metadata": {},
   "outputs": [],
   "source": [
    "%load_ext autoreload\n",
    "%autoreload 2\n",
    "import numpy as np\n",
    "import torch\n",
    "from torch import einsum\n",
    "import torch.autograd as autograd\n",
    "import torch.distributions as D\n",
    "import matplotlib.pyplot as plt\n",
    "from tqdm.notebook import tqdm\n",
    "import sys\n",
    "sys.path.append(\"..\")\n",
    "\n",
    "from src.gof.gof import KSD, GoodnessOfFitTest, PKSD, MaxSKSD\n",
    "from src.Sliced_KSD_Clean.Divergence.Kernel import *\n",
    "from src.kernel import RBF\n",
    "from pymanopt.manifolds import Grassmann"
   ]
  },
  {
   "cell_type": "code",
   "execution_count": 14,
   "metadata": {},
   "outputs": [
    {
     "data": {
      "text/plain": [
       "<torch._C.Generator at 0x7fe98030ca90>"
      ]
     },
     "execution_count": 14,
     "metadata": {},
     "output_type": "execute_result"
    }
   ],
   "source": [
    "nsample = 100\n",
    "nbootstrap = 100\n",
    "torch.manual_seed(1)"
   ]
  },
  {
   "cell_type": "code",
   "execution_count": 15,
   "metadata": {},
   "outputs": [],
   "source": [
    "mean = torch.Tensor([0])\n",
    "var = torch.Tensor([1])\n",
    "\n",
    "# null distribution\n",
    "null_p = D.Normal(mean, var)\n",
    "\n",
    "# sample from true distribution\n",
    "x = 0.5 + torch.randn((nsample, 1)).requires_grad_(True)"
   ]
  },
  {
   "cell_type": "code",
   "execution_count": 16,
   "metadata": {},
   "outputs": [],
   "source": [
    "k = RBF(sigma=1, method=None)\n",
    "\n",
    "ksd = KSD(log_prob=null_p.log_prob, kernel=k)\n",
    "gof_ksd = GoodnessOfFitTest(ksd, x)"
   ]
  },
  {
   "cell_type": "code",
   "execution_count": 17,
   "metadata": {
    "scrolled": true
   },
   "outputs": [
    {
     "data": {
      "text/plain": [
       "(array([-1.22463974e-02,  1.40658120e-02, -9.38007482e-03, -1.18258735e-02,\n",
       "        -6.97836798e-03, -1.55270476e-02,  7.27735555e-02,  1.03359180e-02,\n",
       "         3.27520739e-02, -9.75650753e-03,  1.63682031e-02, -1.24607794e-03,\n",
       "         2.49795245e-02, -8.94298010e-03,  4.39490842e-03, -5.97405415e-03,\n",
       "         1.94088705e-03,  1.48007120e-02,  3.61465892e-03, -8.19843114e-03,\n",
       "        -1.12803570e-02, -5.70533073e-03, -2.28996383e-03, -6.33875553e-03,\n",
       "         7.11293364e-03, -1.09034017e-02,  1.06264921e-02, -1.19030614e-02,\n",
       "         1.02044408e-02, -9.45051192e-03,  3.88349839e-03,  2.12893265e-02,\n",
       "        -1.10236075e-02, -8.83744323e-03,  4.80980403e-03, -1.17865228e-02,\n",
       "        -1.34892172e-02,  3.41319697e-03, -1.60039953e-02, -9.14086176e-03,\n",
       "         9.55438901e-03,  1.15429903e-02,  1.84300801e-02, -5.55852494e-03,\n",
       "        -2.00960059e-03,  4.43359747e-03,  3.26902344e-02,  5.08614689e-03,\n",
       "        -2.59676418e-03, -4.71765631e-03, -1.35868585e-02,  5.21333470e-03,\n",
       "         5.71278675e-03, -6.73219566e-03, -7.45962967e-03, -4.67076481e-03,\n",
       "        -1.96857054e-02, -2.07004375e-02,  8.67741853e-05, -3.51221311e-04,\n",
       "        -1.29850701e-02, -1.23894914e-02, -7.90787483e-03,  2.22750944e-03,\n",
       "        -9.88062310e-03,  9.00834364e-03, -1.05364954e-02,  1.08885520e-02,\n",
       "        -6.64983860e-03,  8.76479841e-03,  2.78357556e-02,  4.11860503e-03,\n",
       "         7.31525463e-04,  1.46283282e-02, -4.31773666e-03,  1.15380099e-02,\n",
       "         9.56387559e-04,  7.74926370e-03,  2.84554734e-02, -1.20927193e-02,\n",
       "        -1.55415992e-02, -6.85655098e-03,  1.68062112e-03,  2.82510172e-02,\n",
       "         1.08696029e-02, -2.69697632e-03,  3.13143411e-03, -3.95682480e-03,\n",
       "         1.70140672e-02,  7.27828941e-03,  4.06140958e-02, -8.34974159e-03,\n",
       "        -2.49208432e-03,  2.02591109e-03, -9.60832700e-03, -2.43320913e-03,\n",
       "        -6.02123866e-03, -2.69538322e-02,  3.93105845e-02, -1.96928100e-03]),\n",
       " 0.049633234197443185,\n",
       " 0.01)"
      ]
     },
     "execution_count": 17,
     "metadata": {},
     "output_type": "execute_result"
    }
   ],
   "source": [
    "gof_ksd.compute_pvalue(nbootstrap)"
   ]
  },
  {
   "cell_type": "markdown",
   "metadata": {},
   "source": [
    "# Projected KSD"
   ]
  },
  {
   "cell_type": "code",
   "execution_count": 18,
   "metadata": {},
   "outputs": [
    {
     "data": {
      "text/plain": [
       "<torch._C.Generator at 0x7fe98030ca90>"
      ]
     },
     "execution_count": 18,
     "metadata": {},
     "output_type": "execute_result"
    }
   ],
   "source": [
    "nsample = 3\n",
    "nbootstrap = 100\n",
    "torch.manual_seed(1)"
   ]
  },
  {
   "cell_type": "code",
   "execution_count": 19,
   "metadata": {},
   "outputs": [],
   "source": [
    "mean = torch.Tensor([0])\n",
    "var = torch.Tensor([1])\n",
    "\n",
    "# null distribution\n",
    "p_null = D.Normal(mean, var)\n",
    "\n",
    "# sample from true distribution\n",
    "x = 0.5 + torch.randn((nsample, 1)).requires_grad_(True)\n",
    "P = torch.Tensor([[1]])"
   ]
  },
  {
   "cell_type": "code",
   "execution_count": 20,
   "metadata": {},
   "outputs": [],
   "source": [
    "k = RBF(sigma=1, method=None)\n",
    "manifold = Grassmann(x.shape[1], 1)\n",
    "    \n",
    "pksd = PKSD(log_prob=p_null.log_prob, kernel=k, manifold=manifold, P=P)\n",
    "gof_pksd = GoodnessOfFitTest(pksd, x)"
   ]
  },
  {
   "cell_type": "code",
   "execution_count": 21,
   "metadata": {
    "scrolled": true
   },
   "outputs": [
    {
     "data": {
      "text/plain": [
       "(array([-0.17322897, -0.29298804, -0.17322897,  0.        , -0.29298804,\n",
       "        -0.32473629, -0.32473629, -0.60769771, -0.17322897, -0.32473629,\n",
       "        -0.29298804, -1.06221969, -0.29298804, -0.29298804,  0.        ,\n",
       "        -0.29298804, -0.17322897, -0.32473629, -0.32473629, -0.29298804,\n",
       "        -0.60769771,  0.        , -0.29298804, -0.17322897,  0.        ,\n",
       "        -0.17322897, -0.29298804, -0.32473629,  0.        ,  0.        ,\n",
       "        -0.32473629, -0.29298804, -0.29298804,  0.        , -0.17322897,\n",
       "        -0.17322897, -0.17322897, -0.29298804, -0.32473629, -0.29298804,\n",
       "        -0.17322897, -0.32473629,  0.        , -0.29298804, -0.32473629,\n",
       "        -1.06221969, -0.32473629, -0.32473629, -0.17322897, -0.32473629,\n",
       "         0.        ,  0.        ,  0.        , -0.29298804,  0.        ,\n",
       "        -0.17322897, -0.17322897, -0.29298804,  0.        ,  0.        ,\n",
       "        -0.29298804, -0.17322897, -0.32473629, -0.32473629,  0.        ,\n",
       "        -0.17322897, -0.70294248,  0.        , -0.32473629, -0.70294248,\n",
       "        -0.29298804, -0.29298804, -0.32473629,  0.        , -0.32473629,\n",
       "        -0.17322897, -0.29298804, -0.17322897, -0.29298804, -0.17322897,\n",
       "         0.        , -0.60769771, -1.06221969, -0.32473629, -0.60769771,\n",
       "        -0.17322897, -0.17322897,  0.        , -0.70294248, -0.32473629,\n",
       "        -0.17322897, -1.06221969,  0.        , -0.29298804, -0.29298804,\n",
       "        -0.17322897,  0.        , -0.32473629, -0.32473629,  0.        ]),\n",
       " 1.1864299774169922,\n",
       " 0.0)"
      ]
     },
     "execution_count": 21,
     "metadata": {},
     "output_type": "execute_result"
    }
   ],
   "source": [
    "gof_pksd.compute_pvalue(nbootstrap)"
   ]
  },
  {
   "cell_type": "code",
   "execution_count": null,
   "metadata": {},
   "outputs": [],
   "source": []
  },
  {
   "cell_type": "markdown",
   "metadata": {},
   "source": [
    "# 1. $p=q$"
   ]
  },
  {
   "cell_type": "markdown",
   "metadata": {},
   "source": [
    "$p = \\mathcal{N}(0, I_d)$"
   ]
  },
  {
   "cell_type": "code",
   "execution_count": 2,
   "metadata": {},
   "outputs": [],
   "source": [
    "from tqdm.notebook import tqdm"
   ]
  },
  {
   "cell_type": "code",
   "execution_count": 4,
   "metadata": {},
   "outputs": [],
   "source": [
    "# torch.manual_seed(1)\n",
    "\n",
    "nsample = 100\n",
    "nbootstrap = 1000\n",
    "nrepeat = 100\n",
    "prop_train = 0.2\n",
    "sig_level = 0.05\n",
    "\n",
    "dims = np.concatenate((np.array([1, 2, 5]), np.arange(10, 110, 10)))\n",
    "dims = np.concatenate((np.array([2, 5]), np.arange(10, 110, 10)))\n",
    "# dims = np.array([1, 2, 5])"
   ]
  },
  {
   "cell_type": "code",
   "execution_count": 6,
   "metadata": {
    "scrolled": true
   },
   "outputs": [
    {
     "name": "stdout",
     "output_type": "stream",
     "text": [
      "Running for dim = 2\n",
      "Begin Repeat\n"
     ]
    },
    {
     "data": {
      "application/vnd.jupyter.widget-view+json": {
       "model_id": "feb872bd0d90438e909cc24fb5587f01",
       "version_major": 2,
       "version_minor": 0
      },
      "text/plain": [
       "  0%|          | 0/100 [00:00<?, ?it/s]"
      ]
     },
     "metadata": {},
     "output_type": "display_data"
    },
    {
     "ename": "RuntimeError",
     "evalue": "The size of tensor a (2) must match the size of tensor b (80) at non-singleton dimension 2",
     "output_type": "error",
     "traceback": [
      "\u001b[0;31m---------------------------------------------------------------------------\u001b[0m",
      "\u001b[0;31mRuntimeError\u001b[0m                              Traceback (most recent call last)",
      "\u001b[0;32m<ipython-input-6-74ca5065250d>\u001b[0m in \u001b[0;36m<module>\u001b[0;34m\u001b[0m\n\u001b[1;32m     70\u001b[0m         \u001b[0mmaxSKSD\u001b[0m\u001b[0;34m.\u001b[0m\u001b[0mtrain_projection\u001b[0m\u001b[0;34m(\u001b[0m\u001b[0mxtrain\u001b[0m\u001b[0;34m,\u001b[0m \u001b[0mxtrain\u001b[0m\u001b[0;34m,\u001b[0m \u001b[0mg\u001b[0m\u001b[0;34m=\u001b[0m\u001b[0mg\u001b[0m\u001b[0;34m,\u001b[0m \u001b[0mepochs\u001b[0m\u001b[0;34m=\u001b[0m\u001b[0;36m100\u001b[0m\u001b[0;34m)\u001b[0m\u001b[0;34m\u001b[0m\u001b[0;34m\u001b[0m\u001b[0m\n\u001b[1;32m     71\u001b[0m         \u001b[0mgof_maxSKSD\u001b[0m \u001b[0;34m=\u001b[0m \u001b[0mGoodnessOfFitTest\u001b[0m\u001b[0;34m(\u001b[0m\u001b[0mmaxSKSD\u001b[0m\u001b[0;34m,\u001b[0m \u001b[0mxtest\u001b[0m\u001b[0;34m)\u001b[0m\u001b[0;34m\u001b[0m\u001b[0;34m\u001b[0m\u001b[0m\n\u001b[0;32m---> 72\u001b[0;31m         \u001b[0mmaxSKSD_boots_val\u001b[0m\u001b[0;34m,\u001b[0m \u001b[0mmaxSKSD_stat_val\u001b[0m\u001b[0;34m,\u001b[0m \u001b[0mmaxSKSD_pval_val\u001b[0m \u001b[0;34m=\u001b[0m \u001b[0mgof_maxSKSD\u001b[0m\u001b[0;34m.\u001b[0m\u001b[0mcompute_pvalue\u001b[0m\u001b[0;34m(\u001b[0m\u001b[0mnbootstrap\u001b[0m\u001b[0;34m)\u001b[0m\u001b[0;34m\u001b[0m\u001b[0;34m\u001b[0m\u001b[0m\n\u001b[0m\u001b[1;32m     73\u001b[0m \u001b[0;34m\u001b[0m\u001b[0m\n\u001b[1;32m     74\u001b[0m         \u001b[0mmaxSKSD_stat\u001b[0m\u001b[0;34m[\u001b[0m\u001b[0mj\u001b[0m\u001b[0;34m]\u001b[0m \u001b[0;34m=\u001b[0m \u001b[0mmaxSKSD_boots_val\u001b[0m\u001b[0;34m\u001b[0m\u001b[0;34m\u001b[0m\u001b[0m\n",
      "\u001b[0;32m~/Desktop/Postgraduate/PhD/Research/M-SVGD/src/gof/gof.py\u001b[0m in \u001b[0;36mcompute_pvalue\u001b[0;34m(self, nbootstrap)\u001b[0m\n\u001b[1;32m    250\u001b[0m             \u001b[0mpvalue\u001b[0m\u001b[0;34m:\u001b[0m \u001b[0mp\u001b[0m\u001b[0;34m-\u001b[0m\u001b[0mvalue\u001b[0m \u001b[0mbased\u001b[0m \u001b[0mon\u001b[0m \u001b[0mthe\u001b[0m \u001b[0mbootstrap\u001b[0m \u001b[0msamples\u001b[0m\u001b[0;34m\u001b[0m\u001b[0;34m\u001b[0m\u001b[0m\n\u001b[1;32m    251\u001b[0m         \"\"\"\n\u001b[0;32m--> 252\u001b[0;31m         \u001b[0mstat_matrix\u001b[0m \u001b[0;34m=\u001b[0m \u001b[0mself\u001b[0m\u001b[0;34m.\u001b[0m\u001b[0md\u001b[0m\u001b[0;34m(\u001b[0m\u001b[0mself\u001b[0m\u001b[0;34m.\u001b[0m\u001b[0mx\u001b[0m\u001b[0;34m,\u001b[0m \u001b[0mself\u001b[0m\u001b[0;34m.\u001b[0m\u001b[0mx\u001b[0m\u001b[0;34m)\u001b[0m\u001b[0;34m\u001b[0m\u001b[0;34m\u001b[0m\u001b[0m\n\u001b[0m\u001b[1;32m    253\u001b[0m         \u001b[0mbootstrap_stats\u001b[0m \u001b[0;34m=\u001b[0m \u001b[0mself\u001b[0m\u001b[0;34m.\u001b[0m\u001b[0mbootstrap\u001b[0m\u001b[0;34m(\u001b[0m\u001b[0mnbootstrap\u001b[0m\u001b[0;34m,\u001b[0m \u001b[0mstat_matrix\u001b[0m\u001b[0;34m)\u001b[0m\u001b[0;34m\u001b[0m\u001b[0;34m\u001b[0m\u001b[0m\n\u001b[1;32m    254\u001b[0m         stat = (stat_matrix - np.diag(np.diag(stat_matrix))).sum() / (\n",
      "\u001b[0;32m~/Desktop/Postgraduate/PhD/Research/M-SVGD/src/gof/gof.py\u001b[0m in \u001b[0;36m__call__\u001b[0;34m(self, x, y, r, g)\u001b[0m\n\u001b[1;32m    148\u001b[0m         \u001b[0mlog_prob_y\u001b[0m \u001b[0;34m=\u001b[0m \u001b[0mself\u001b[0m\u001b[0;34m.\u001b[0m\u001b[0mlog_prob\u001b[0m\u001b[0;34m(\u001b[0m\u001b[0my\u001b[0m\u001b[0;34m)\u001b[0m\u001b[0;34m\u001b[0m\u001b[0;34m\u001b[0m\u001b[0m\n\u001b[1;32m    149\u001b[0m         return (\n\u001b[0;32m--> 150\u001b[0;31m             compute_max_DSSD_eff(\n\u001b[0m\u001b[1;32m    151\u001b[0m                 \u001b[0mx\u001b[0m\u001b[0;34m,\u001b[0m\u001b[0;34m\u001b[0m\u001b[0;34m\u001b[0m\u001b[0m\n\u001b[1;32m    152\u001b[0m                 \u001b[0my\u001b[0m\u001b[0;34m,\u001b[0m\u001b[0;34m\u001b[0m\u001b[0;34m\u001b[0m\u001b[0m\n",
      "\u001b[0;32m~/Desktop/Postgraduate/PhD/Research/M-SVGD/src/Sliced_KSD_Clean/Divergence/Def_Divergence.py\u001b[0m in \u001b[0;36mcompute_max_DSSD_eff\u001b[0;34m(samples1, samples2, score_func, kernel, d_kernel, dd_kernel, **kwargs)\u001b[0m\n\u001b[1;32m    143\u001b[0m     \u001b[0;32melse\u001b[0m\u001b[0;34m:\u001b[0m\u001b[0;34m\u001b[0m\u001b[0;34m\u001b[0m\u001b[0m\n\u001b[1;32m    144\u001b[0m         proj_score1 = torch.sum(\n\u001b[0;32m--> 145\u001b[0;31m             r_exp * torch.unsqueeze(score_samples1, dim=0), dim=-1, keepdim=True)  # r x sam1 x 1\n\u001b[0m\u001b[1;32m    146\u001b[0m         proj_score2 = torch.sum(\n\u001b[1;32m    147\u001b[0m             r_exp * torch.unsqueeze(score_samples2, dim=0), dim=-1)  # r x sam2\n",
      "\u001b[0;31mRuntimeError\u001b[0m: The size of tensor a (2) must match the size of tensor b (80) at non-singleton dimension 2"
     ]
    }
   ],
   "source": [
    "ksd_stats = [0] * len(dims)\n",
    "ksd_pvals = [0] * len(dims)\n",
    "ksd_rejrates = [0] * len(dims)\n",
    "# res = pd.DataFrame(0, columns=[\"ksd\", \"pksd\"])\n",
    "\n",
    "pksd_pvals = [0] * len(dims)\n",
    "pksd_rejrates = [0] * len(dims)\n",
    "\n",
    "maxSKSD_pvals = [0] * len(dims)\n",
    "maxSKSD_rejrates = [0] * len(dims)\n",
    "\n",
    "ntrain = int(nsample*prop_train)\n",
    "for i, dim in enumerate(dims):\n",
    "    print(f\"Running for dim = {dim}\")\n",
    "    ksd_stat = [0] * nrepeat\n",
    "    ksd_pval = [0] * nrepeat\n",
    "    pksd_stat = [0] * nrepeat\n",
    "    pksd_pval = [0] * nrepeat\n",
    "    maxSKSD_stat = [0] * nrepeat\n",
    "    maxSKSD_pval = [0] * nrepeat   \n",
    "    # alternative distribution\n",
    "    mean = torch.zeros(dim)\n",
    "    var = torch.diag(torch.ones(dim))\n",
    "    p_null = D.MultivariateNormal(mean, var)\n",
    "\n",
    "    # sample from null distribution\n",
    "    p_alt = D.MultivariateNormal(mean, var)\n",
    "    \n",
    "    P = torch.ones((dim, dim))[:2 :]\n",
    "    \n",
    "    k = RBF(sigma=1, method=None)\n",
    "    manifold = Grassmann(dim, min(2, dim))\n",
    "    \n",
    "    print(\"Begin Repeat\")\n",
    "    for j in tqdm(range(nrepeat)):\n",
    "        x_ksd = p_alt.sample((nsample, )).requires_grad_(True)\n",
    "        x_pksd = x_ksd.clone().requires_grad_(True)\n",
    "        xtrain, xtest = x_pksd[:ntrain, :], x_pksd[ntrain:, :]\n",
    "        \n",
    "        ## ksd\n",
    "        ksd = KSD(log_prob=p_null.log_prob, kernel=k)\n",
    "        gof_ksd = GoodnessOfFitTest(ksd, x_ksd)\n",
    "        ksd_boots_val, ksd_stat_val, ksd_pval_val = gof_ksd.compute_pvalue(nbootstrap)\n",
    "        \n",
    "        ksd_stat[j] = ksd_stat_val\n",
    "        ksd_pval[j] = ksd_pval_val\n",
    "        \n",
    "        ## pksd\n",
    "        pksd = PKSD(log_prob=p_null.log_prob, kernel=k, manifold=manifold, P=P)\n",
    "        _, _ = pksd.train_projection(xtrain, xtrain, epochs=100, delta=1e-4)\n",
    "        gof_pksd = GoodnessOfFitTest(pksd, xtest)\n",
    "        pksd_boots_val, pksd_stat_val, pksd_pval_val = gof_pksd.compute_pvalue(nbootstrap)\n",
    "        \n",
    "        pksd_stat[j] = pksd_stat_val\n",
    "        pksd_pval[j] = pksd_pval_val\n",
    "        \n",
    "        ## maxSKSD\n",
    "        g = torch.eye(xtrain.shape[-1]).requires_grad_()\n",
    "        r = torch.eye(xtrain.shape[-1])\n",
    "        optimizer = torch.optim.Adam([g], lr=1e-2, betas=(0.5, 0.9))\n",
    "        maxSKSD = MaxSKSD(\n",
    "            log_prob=p_null.log_prob,\n",
    "            kernel=SE_kernel,\n",
    "            d_kernel=d_SE_kernel,\n",
    "            dd_kernel=dd_SE_kernel,\n",
    "            optimizer=optimizer,\n",
    "            r=r,\n",
    "            g=g\n",
    "        )\n",
    "        maxSKSD.train_projection(xtrain, xtrain, g=g, epochs=100)\n",
    "        gof_maxSKSD = GoodnessOfFitTest(maxSKSD, xtest)\n",
    "        maxSKSD_boots_val, maxSKSD_stat_val, maxSKSD_pval_val = gof_maxSKSD.compute_pvalue(nbootstrap)\n",
    "        \n",
    "        maxSKSD_stat[j] = maxSKSD_boots_val\n",
    "        maxSKSD_pval[j] = maxSKSD_stat_val\n",
    "        \n",
    "    ksd_stats[i] = ksd_stat\n",
    "    ksd_pvals[i] = ksd_pval\n",
    "    ksd_rejrates[i] = np.mean(np.array(ksd_pval) < sig_level)\n",
    "    \n",
    "    pksd_pvals[i] = pksd_pval\n",
    "    pksd_rejrates[i] = np.mean(np.array(pksd_pval) < sig_level)\n",
    "    \n",
    "    maxSKSD_pvals[i] = maxSKSD_pval\n",
    "    maxSKSD_rejrates[i] = np.mean(np.array(maxSKSD_pval) < sig_level)"
   ]
  },
  {
   "cell_type": "code",
   "execution_count": null,
   "metadata": {},
   "outputs": [],
   "source": [
    "gof_ksd.d(x_ksd, x_ksd)"
   ]
  },
  {
   "cell_type": "code",
   "execution_count": 67,
   "metadata": {},
   "outputs": [
    {
     "data": {
      "text/plain": [
       "array([[ 0.0000000e+00, -2.7249650e-41, -4.3300123e-43, ...,\n",
       "        -5.4484654e-38, -2.6267536e-39, -7.3994469e-37],\n",
       "       [-2.7249650e-41,  0.0000000e+00,  0.0000000e+00, ...,\n",
       "        -1.6279747e-36,  0.0000000e+00, -7.1990447e-40],\n",
       "       [-4.3300123e-43,  0.0000000e+00,  0.0000000e+00, ...,\n",
       "        -4.9493862e-42,  0.0000000e+00,  0.0000000e+00],\n",
       "       ...,\n",
       "       [-5.4484659e-38, -1.6279747e-36, -4.9493862e-42, ...,\n",
       "         0.0000000e+00, -3.8309762e-38,  0.0000000e+00],\n",
       "       [-2.6267536e-39,  0.0000000e+00,  0.0000000e+00, ...,\n",
       "        -3.8309762e-38,  0.0000000e+00, -5.4576792e-40],\n",
       "       [-7.3994469e-37, -7.1990447e-40,  0.0000000e+00, ...,\n",
       "         0.0000000e+00, -5.4576792e-40,  0.0000000e+00]], dtype=float32)"
      ]
     },
     "execution_count": 67,
     "metadata": {},
     "output_type": "execute_result"
    }
   ],
   "source": [
    "gof_ksd.d(x_ksd, x_ksd) - np.diag(np.diag(gof_ksd.d(x_ksd, x_ksd)))"
   ]
  },
  {
   "cell_type": "code",
   "execution_count": 69,
   "metadata": {},
   "outputs": [
    {
     "data": {
      "text/plain": [
       "<matplotlib.legend.Legend at 0x7f16b871be50>"
      ]
     },
     "execution_count": 69,
     "metadata": {},
     "output_type": "execute_result"
    },
    {
     "data": {
      "image/png": "[encoded data removed]",
      "text/plain": [
       "<Figure size 432x288 with 1 Axes>"
      ]
     },
     "metadata": {
      "needs_background": "light"
     },
     "output_type": "display_data"
    }
   ],
   "source": [
    "plt.plot(dims, ksd_rejrates, color=\"r\", label=\"KSD\")\n",
    "plt.plot(dims, pksd_rejrates, color=\"b\", label=\"PKSD\")\n",
    "plt.plot(dims, maxSKSD_rejrates, color=\"g\", label=\"maxSKSD\")\n",
    "\n",
    "plt.axhline(sig_level, color=\"grey\", linestyle=\"--\")\n",
    "plt.legend()"
   ]
  },
  {
   "cell_type": "code",
   "execution_count": 59,
   "metadata": {},
   "outputs": [],
   "source": [
    "# from src.Sliced_KSD_Clean.Divergence.Kernel import *\n",
    "# g = torch.eye(xtrain.shape[-1]).requires_grad_()\n",
    "# print(g)\n",
    "# r = torch.eye(xtrain.shape[-1])\n",
    "# optimizer = torch.optim.Adam([g], lr=1e-2, betas=(0.5, 0.9))\n",
    "# maxSKSD = MaxSKSD(\n",
    "#     log_prob=null_p.log_prob,\n",
    "#     kernel=SE_kernel,\n",
    "#     d_kernel=d_SE_kernel,\n",
    "#     dd_kernel=dd_SE_kernel,\n",
    "#     optimizer=optimizer,\n",
    "#     r=r,\n",
    "#     g=g\n",
    "# )\n",
    "# maxSKSD.train_projection(xtrain, xtrain, g=g, epochs=3000)\n",
    "# gof_maxSKSD = GoodnessOfFitTest(maxSKSD, x)\n",
    "# print(maxSKSD.g)"
   ]
  },
  {
   "cell_type": "markdown",
   "metadata": {},
   "source": [
    "# Multivariate Gaussian with effective dims"
   ]
  },
  {
   "cell_type": "code",
   "execution_count": 49,
   "metadata": {},
   "outputs": [],
   "source": [
    "def gaussian_experiment(dims, nsample, nbootstrap, nrepeat, sig_level=0.05, prop_train=0.2):\n",
    "    \n",
    "    ksd_stats = [0] * len(dims)\n",
    "    ksd_pvals = [0] * len(dims)\n",
    "    ksd_rejrates = [0] * len(dims)\n",
    "\n",
    "    pksd_pvals = [0] * len(dims)\n",
    "    pksd_rejrates = [0] * len(dims)\n",
    "\n",
    "    ntrain = int(nsample*prop_train)\n",
    "    for i, dim in enumerate(dims):\n",
    "        print(f\"Running for dim = {dim}\")\n",
    "        ksd_stat = [0] * nrepeat\n",
    "        ksd_pval = [0] * nrepeat\n",
    "        pksd_stat = [0] * nrepeat\n",
    "        pksd_pval = [0] * nrepeat\n",
    "\n",
    "        # alternative distribution\n",
    "        mean = torch.zeros(dim)\n",
    "        cov = torch.diag(torch.ones(dim))\n",
    "        p_alt = D.MultivariateNormal(mean, cov)\n",
    "\n",
    "        # null distribution\n",
    "        mean_null = torch.zeros(dim)\n",
    "        mean_null[:2] = 1\n",
    "        cov_null = torch.eye(dim)\n",
    "        p_null = D.MultivariateNormal(mean_null, cov_null)\n",
    "\n",
    "        P = torch.ones((dim, dim))[:2 :]\n",
    "\n",
    "        k = RBF(sigma=1, method=None)\n",
    "        manifold = Grassmann(dim, min(2, dim))\n",
    "\n",
    "        for j in tqdm(range(nrepeat)):\n",
    "            x_ksd = p_alt.sample((nsample, )).requires_grad_(True)\n",
    "            x_pksd = x_ksd.clone().requires_grad_(True)\n",
    "            xtrain, xtest = x_pksd[:ntrain, :], x_pksd[ntrain:, :]\n",
    "\n",
    "            ## ksd\n",
    "            ksd = KSD(log_prob=p_null.log_prob, kernel=k)\n",
    "            gof_ksd = GoodnessOfFitTest(ksd, x_ksd)\n",
    "            ksd_boots_val, ksd_stat_val, ksd_pval_val = gof_ksd.compute_pvalue(nbootstrap)\n",
    "\n",
    "            ksd_stat[j] = ksd_stat_val\n",
    "            ksd_pval[j] = ksd_pval_val\n",
    "\n",
    "            ## pksd\n",
    "            pksd = PKSD(log_prob=p_null.log_prob, kernel=k, manifold=manifold, P=P)\n",
    "            _, _ = pksd.train_projection(xtrain, xtrain, epochs=100, delta=1e-4)\n",
    "            gof_pksd = GoodnessOfFitTest(pksd, xtest)\n",
    "            pksd_boots_val, pksd_stat_val, pksd_pval_val = gof_pksd.compute_pvalue(nbootstrap)\n",
    "\n",
    "            pksd_stat[j] = pksd_stat_val\n",
    "            pksd_pval[j] = pksd_pval_val\n",
    "\n",
    "        ksd_stats[i] = ksd_stat\n",
    "        ksd_pvals[i] = ksd_pval\n",
    "        ksd_rejrates[i] = np.mean(np.array(ksd_pval) < sig_level)\n",
    "\n",
    "        pksd_pvals[i] = pksd_pval\n",
    "        pksd_rejrates[i] = np.mean(np.array(pksd_pval) < sig_level)\n",
    "    return(ksd_rejrates, pksd_rejrates)"
   ]
  },
  {
   "cell_type": "code",
   "execution_count": 50,
   "metadata": {},
   "outputs": [],
   "source": [
    "dims = [50]\n",
    "nsample = 100\n",
    "nbootstrap = 1000\n",
    "nrepeat = 100\n",
    "sig_level = 0.05"
   ]
  },
  {
   "cell_type": "code",
   "execution_count": 51,
   "metadata": {},
   "outputs": [
    {
     "name": "stdout",
     "output_type": "stream",
     "text": [
      "Running for dim = 50\n"
     ]
    },
    {
     "data": {
      "application/vnd.jupyter.widget-view+json": {
       "model_id": "06db90487e00488da898315b2f1e326a",
       "version_major": 2,
       "version_minor": 0
      },
      "text/plain": [
       "  0%|          | 0/100 [00:00<?, ?it/s]"
      ]
     },
     "metadata": {},
     "output_type": "display_data"
    }
   ],
   "source": [
    "ksd_rejrates, pksd_rejrates = gaussian_experiment(\n",
    "    dims=dims, \n",
    "    nsample=nsample, \n",
    "    nbootstrap=nbootstrap, \n",
    "    nrepeat=nrepeat, \n",
    "    sig_level=sig_level\n",
    ")"
   ]
  },
  {
   "cell_type": "code",
   "execution_count": 52,
   "metadata": {},
   "outputs": [
    {
     "name": "stdout",
     "output_type": "stream",
     "text": [
      "[0.0]\n",
      "[1.0]\n"
     ]
    }
   ],
   "source": [
    "print(ksd_rejrates)\n",
    "print(pksd_rejrates)"
   ]
  },
  {
   "cell_type": "code",
   "execution_count": 12,
   "metadata": {},
   "outputs": [
    {
     "data": {
      "text/plain": [
       "<matplotlib.legend.Legend at 0x1283bfdc0>"
      ]
     },
     "execution_count": 12,
     "metadata": {},
     "output_type": "execute_result"
    },
    {
     "data": {
      "image/png": "[encoded data removed]",
      "text/plain": [
       "<Figure size 432x288 with 1 Axes>"
      ]
     },
     "metadata": {
      "needs_background": "light"
     },
     "output_type": "display_data"
    }
   ],
   "source": [
    "plt.plot(dims, ksd_rejrates, color=\"r\", label=\"KSD\")\n",
    "plt.plot(dims, pksd_rejrates, color=\"b\", label=\"PKSD\")\n",
    "plt.axhline(sig_level, color=\"grey\", linestyle=\"--\")\n",
    "plt.legend()"
   ]
  },
  {
   "cell_type": "markdown",
   "metadata": {},
   "source": [
    "# Train projection"
   ]
  },
  {
   "cell_type": "code",
   "execution_count": 35,
   "metadata": {},
   "outputs": [],
   "source": [
    "dim = 50\n",
    "nsample = 100\n",
    "nbootstrap = 1000\n",
    "nrepeat = 100\n",
    "sig_level = 0.05\n",
    "\n",
    "# dims = np.concatenate((np.array([1, 2, 5]), np.arange(10, 110, 10)))\n",
    "# dims = np.array([1, 2, 5])\n",
    "\n",
    "# alternative distribution\n",
    "mean = torch.zeros(dim)\n",
    "cov = torch.diag(torch.ones(dim))\n",
    "p_alt = D.MultivariateNormal(mean, cov)\n",
    "\n",
    "# null distribution\n",
    "mean_null = torch.zeros(dim)\n",
    "mean_null[:2] = 1\n",
    "cov_null = torch.eye(dim)\n",
    "p_null = D.MultivariateNormal(mean_null, cov_null)\n",
    "\n",
    "P = torch.ones((dim, dim))[:2 :]\n",
    "\n",
    "k = RBF(sigma=1, method=None)\n",
    "manifold = Grassmann(dim, dim)\n",
    "\n",
    "# ksd = KSD(log_prob=p_null.log_prob, kernel=k)\n",
    "pksd = PKSD(log_prob=p_null.log_prob, kernel=k, manifold=manifold, P=P)"
   ]
  },
  {
   "cell_type": "code",
   "execution_count": 41,
   "metadata": {},
   "outputs": [],
   "source": [
    "x = p_alt.sample((nsample, )).requires_grad_(True)"
   ]
  },
  {
   "cell_type": "code",
   "execution_count": 42,
   "metadata": {},
   "outputs": [],
   "source": [
    "# gof_ksd = GoodnessOfFitTest(ksd, x.detach().requires_grad_(True))\n",
    "# ksd_boots_val, ksd_stat_val, ksd_pval_val = gof_ksd.compute_pvalue(nbootstrap)"
   ]
  },
  {
   "cell_type": "code",
   "execution_count": 43,
   "metadata": {},
   "outputs": [],
   "source": [
    "train_prop = 0.2\n",
    "x_train = x[:int(x.shape[0]*train_prop), :].detach().requires_grad_(True)\n",
    "x_test = x[int(x.shape[0]*train_prop):, :].detach().requires_grad_(True)\n",
    "P_ls, stats_ls = pksd.train_projection(x_train, x_train, epochs=100, delta=1e-4)"
   ]
  },
  {
   "cell_type": "code",
   "execution_count": 44,
   "metadata": {},
   "outputs": [
    {
     "data": {
      "text/plain": [
       "[<matplotlib.lines.Line2D at 0x1288bb5b0>]"
      ]
     },
     "execution_count": 44,
     "metadata": {},
     "output_type": "execute_result"
    },
    {
     "data": {
      "image/png": "[encoded data removed]",
      "text/plain": [
       "<Figure size 432x288 with 1 Axes>"
      ]
     },
     "metadata": {
      "needs_background": "light"
     },
     "output_type": "display_data"
    }
   ],
   "source": [
    "plt.plot(stats_ls)"
   ]
  },
  {
   "cell_type": "code",
   "execution_count": 45,
   "metadata": {
    "scrolled": true
   },
   "outputs": [
    {
     "data": {
      "text/plain": [
       "(array([[-0.46304756, -0.57275194, -0.01805321,  0.05897039,  0.04819657,\n",
       "         -0.10065053, -0.01382178,  0.00736601, -0.08258627, -0.01600119,\n",
       "          0.0449691 , -0.01637276,  0.0384306 ,  0.02693243, -0.12201211,\n",
       "         -0.04107516, -0.05050454,  0.00213393,  0.04420745,  0.05518517,\n",
       "          0.04319487,  0.05801848,  0.12792744,  0.2080862 ,  0.02781599,\n",
       "         -0.11553015, -0.08381223,  0.08712358,  0.13308868, -0.09906239,\n",
       "         -0.05153497, -0.0803784 , -0.08215466,  0.14681432,  0.09926663,\n",
       "         -0.04104757, -0.06493483, -0.03420531, -0.08536061, -0.07375199,\n",
       "         -0.12918225, -0.05004876, -0.07832478, -0.07638361,  0.10772901,\n",
       "          0.01919129,  0.14324698, -0.36058983, -0.14884886,  0.03569964],\n",
       "        [ 0.14407161,  0.16501415,  0.03564508,  0.25578088, -0.23808798,\n",
       "         -0.21634099, -0.10329926, -0.11094272, -0.07031459, -0.33057484,\n",
       "          0.05459561,  0.08022474,  0.13465855,  0.20502894,  0.07307053,\n",
       "         -0.22186047, -0.02693989, -0.00488645,  0.06028948,  0.00240979,\n",
       "         -0.15379228, -0.00711351,  0.02129526, -0.11043192,  0.12968971,\n",
       "         -0.06452344, -0.07732671, -0.04647724, -0.13707912, -0.15781297,\n",
       "         -0.02687267,  0.23115471, -0.09734846, -0.11328553, -0.0500338 ,\n",
       "          0.02980701, -0.14759684, -0.22289193,  0.08945091, -0.04451492,\n",
       "         -0.21748254, -0.20035677,  0.0328902 , -0.24835232,  0.06402093,\n",
       "         -0.21485777,  0.06341151, -0.17886011, -0.07534969,  0.05882178]],\n",
       "       dtype=float32),\n",
       " tensor([[-0.4630, -0.5728, -0.0181,  0.0590,  0.0482, -0.1007, -0.0138,  0.0074,\n",
       "          -0.0826, -0.0160,  0.0450, -0.0164,  0.0384,  0.0269, -0.1220, -0.0411,\n",
       "          -0.0505,  0.0021,  0.0442,  0.0552,  0.0432,  0.0580,  0.1279,  0.2081,\n",
       "           0.0278, -0.1155, -0.0838,  0.0871,  0.1331, -0.0991, -0.0515, -0.0804,\n",
       "          -0.0822,  0.1468,  0.0993, -0.0410, -0.0649, -0.0342, -0.0854, -0.0738,\n",
       "          -0.1292, -0.0500, -0.0783, -0.0764,  0.1077,  0.0192,  0.1432, -0.3606,\n",
       "          -0.1488,  0.0357],\n",
       "         [ 0.1441,  0.1650,  0.0356,  0.2558, -0.2381, -0.2163, -0.1033, -0.1109,\n",
       "          -0.0703, -0.3306,  0.0546,  0.0802,  0.1347,  0.2050,  0.0731, -0.2219,\n",
       "          -0.0269, -0.0049,  0.0603,  0.0024, -0.1538, -0.0071,  0.0213, -0.1104,\n",
       "           0.1297, -0.0645, -0.0773, -0.0465, -0.1371, -0.1578, -0.0269,  0.2312,\n",
       "          -0.0973, -0.1133, -0.0500,  0.0298, -0.1476, -0.2229,  0.0895, -0.0445,\n",
       "          -0.2175, -0.2004,  0.0329, -0.2484,  0.0640, -0.2149,  0.0634, -0.1789,\n",
       "          -0.0753,  0.0588]]),\n",
       " array([[-4.30521011e-01, -2.99877852e-01, -7.30029494e-03,\n",
       "          1.85068846e-01,  7.61226118e-02, -1.56521738e-01,\n",
       "          3.27731520e-02, -9.76772383e-02,  2.42750905e-02,\n",
       "         -1.71052128e-01,  5.03355302e-02,  8.92732739e-02,\n",
       "          5.13790548e-02,  1.07075416e-01, -3.46614458e-02,\n",
       "          5.43384440e-02, -1.88837536e-02,  3.43228653e-02,\n",
       "         -1.74603879e-01, -1.18101820e-01, -2.91185141e-01,\n",
       "         -1.28493905e-01,  1.55631587e-01, -9.24580693e-02,\n",
       "          3.14828083e-02, -1.67798355e-01,  4.77440730e-02,\n",
       "         -4.17710990e-02,  6.36234283e-02, -8.91095214e-03,\n",
       "         -3.61618072e-01,  1.00725204e-01,  7.49673098e-02,\n",
       "          3.88526991e-02, -7.19190240e-02,  5.22400439e-02,\n",
       "         -6.46768287e-02,  4.04082946e-02, -8.03074464e-02,\n",
       "         -7.85337202e-03, -6.20912462e-02, -2.40428895e-01,\n",
       "         -1.45652205e-01, -2.86167227e-02, -6.99171647e-02,\n",
       "          1.82383776e-01,  1.47577301e-01,  7.72866458e-02,\n",
       "         -1.79984644e-01,  1.52641997e-01],\n",
       "        [ 1.84344694e-01,  2.58611143e-01,  3.20078343e-01,\n",
       "          1.24786392e-01,  7.68844038e-05, -3.23744327e-01,\n",
       "          8.96205232e-02, -8.51315446e-03, -2.52814949e-01,\n",
       "         -9.37790871e-02,  4.29659300e-02, -1.16037101e-01,\n",
       "          1.35179073e-01, -4.74994220e-02, -2.59525655e-03,\n",
       "         -1.57796293e-01,  6.49954453e-02, -5.88949174e-02,\n",
       "          4.51432914e-02,  5.89134246e-02, -2.33540684e-01,\n",
       "          1.46624655e-01,  1.66592062e-01, -1.25999823e-02,\n",
       "          2.39009038e-03, -1.44289911e-01, -6.10903092e-03,\n",
       "          1.86442304e-02,  1.25423804e-01, -1.68567300e-01,\n",
       "          1.92418963e-01, -4.89592254e-02, -5.02139255e-02,\n",
       "         -1.04414456e-01,  1.70333013e-01, -4.81309444e-02,\n",
       "         -7.92353004e-02,  1.65120393e-01,  9.27172303e-02,\n",
       "          4.22737077e-02, -2.63795137e-01, -1.40360206e-01,\n",
       "         -1.38837174e-01, -2.68900424e-01,  2.22419221e-02,\n",
       "         -1.23108234e-02,  7.94546902e-02, -1.43338710e-01,\n",
       "         -1.16707355e-01, -4.61979210e-02]], dtype=float32))"
      ]
     },
     "execution_count": 45,
     "metadata": {},
     "output_type": "execute_result"
    }
   ],
   "source": [
    "P_ls[-1], pksd.P, P_ls[0]"
   ]
  },
  {
   "cell_type": "code",
   "execution_count": 46,
   "metadata": {},
   "outputs": [],
   "source": [
    "gof_pksd = GoodnessOfFitTest(pksd, x_test.detach().requires_grad_(True))\n",
    "pksd_boots_val, pksd_stat_val, pksd_pval_val = gof_pksd.compute_pvalue(nbootstrap)\n",
    "\n",
    "pksd.P = torch.Tensor(P_ls[0])\n",
    "gof_pksd2 = GoodnessOfFitTest(pksd, x.detach().requires_grad_(True))\n",
    "pksd_boots_val2, pksd_stat_val2, pksd_pval_val2 = gof_pksd.compute_pvalue(nbootstrap)"
   ]
  },
  {
   "cell_type": "code",
   "execution_count": 48,
   "metadata": {},
   "outputs": [
    {
     "name": "stdout",
     "output_type": "stream",
     "text": [
      "0.48601815911787977 0.22317050982125197\n",
      "0.0 0.0\n"
     ]
    }
   ],
   "source": [
    "# print(ksd_stat_val, pksd_stat_val, pksd_stat_val2)\n",
    "# print(ksd_pval_val, pksd_pval_val, pksd_pval_val2)\n",
    "print(pksd_stat_val, pksd_stat_val2)\n",
    "print(pksd_pval_val, pksd_pval_val2)"
   ]
  },
  {
   "cell_type": "code",
   "execution_count": null,
   "metadata": {},
   "outputs": [],
   "source": []
  },
  {
   "cell_type": "code",
   "execution_count": null,
   "metadata": {},
   "outputs": [],
   "source": []
  },
  {
   "cell_type": "code",
   "execution_count": null,
   "metadata": {},
   "outputs": [],
   "source": []
  },
  {
   "cell_type": "code",
   "execution_count": 86,
   "metadata": {},
   "outputs": [],
   "source": [
    "lap = D.laplace.Laplace(torch.Tensor([0,0,0]), torch.Tensor([1/np.sqrt(2), 1/np.sqrt(2), 1/np.sqrt(2)]))\n",
    "lap_1d = D.laplace.Laplace(torch.Tensor([0]), torch.Tensor([1/np.sqrt(2)]))"
   ]
  },
  {
   "cell_type": "code",
   "execution_count": null,
   "metadata": {},
   "outputs": [],
   "source": []
  }
 ],
 "metadata": {
  "kernelspec": {
   "display_name": "Python 3",
   "language": "python",
   "name": "python3"
  },
  "language_info": {
   "codemirror_mode": {
    "name": "ipython",
    "version": 3
   },
   "file_extension": ".py",
   "mimetype": "text/x-python",
   "name": "python",
   "nbconvert_exporter": "python",
   "pygments_lexer": "ipython3",
   "version": "3.8.8"
  }
 },
 "nbformat": 4,
 "nbformat_minor": 2
}
